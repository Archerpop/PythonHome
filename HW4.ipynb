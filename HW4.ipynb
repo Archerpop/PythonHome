{
 "cells": [
  {
   "cell_type": "markdown",
   "metadata": {},
   "source": [
    "<h1> Базовый уровень"
   ]
  },
  {
   "cell_type": "markdown",
   "metadata": {},
   "source": [
    "<b>Задание 1.1"
   ]
  },
  {
   "cell_type": "code",
   "execution_count": 5,
   "metadata": {
    "collapsed": true
   },
   "outputs": [],
   "source": [
    "text = \"\"\"123\n",
    "4567\n",
    " 8910\n",
    "\"\"\"\n",
    "with open('task_1.1_source.txt', 'w') as f:\n",
    "    f.write(text)"
   ]
  },
  {
   "cell_type": "code",
   "execution_count": 6,
   "metadata": {
    "collapsed": false
   },
   "outputs": [
    {
     "name": "stdout",
     "output_type": "stream",
     "text": [
      "123\n",
      "4567\n",
      " 8910\n"
     ]
    }
   ],
   "source": [
    "!type task_1.1_source"
   ]
  },
  {
   "cell_type": "code",
   "execution_count": 27,
   "metadata": {
    "collapsed": false
   },
   "outputs": [],
   "source": [
    "import os\n",
    "def copy_file(source_path, target_path):\n",
    "    if not os.path.exists(target_path):\n",
    "        os.makedirs(target_path)\n",
    "    with open(target_path+'/t1.txt', 'w') as f1, open(source_path, 'r') as f2:\n",
    "        f1.write(f2.read())\n",
    "    return"
   ]
  },
  {
   "cell_type": "code",
   "execution_count": 28,
   "metadata": {
    "collapsed": false
   },
   "outputs": [],
   "source": [
    "copy_file('task_1.1_source.txt','Work_4')"
   ]
  },
  {
   "cell_type": "markdown",
   "metadata": {},
   "source": [
    "<b>Задание 1.2"
   ]
  },
  {
   "cell_type": "code",
   "execution_count": 30,
   "metadata": {
    "collapsed": true
   },
   "outputs": [],
   "source": [
    "with open('task_1.2.txt', 'w') as f:\n",
    "    f.write(\"\"\"apple - malum, pomum, popula\n",
    "fruit - baca, bacca, popum\n",
    "punishment - malum, multa\n",
    "\"\"\")"
   ]
  },
  {
   "cell_type": "code",
   "execution_count": 138,
   "metadata": {
    "collapsed": false
   },
   "outputs": [],
   "source": [
    "def eng_lat_2_lat_eng(source_path, target_path):\n",
    "    dict_1={}\n",
    "    set_1=[]\n",
    "    set_2=[]\n",
    "    with open(source_path, 'r') as ff:\n",
    "        for line in ff.xreadlines():\n",
    "            set_1.append(line.split(\" - \")[0])\n",
    "            set_2.append(line.split(\" - \")[1].replace(\"\\n\",\"\"))\n",
    "    for s_line in zip(set_2,set_1):\n",
    "        for x_line in s_line[0].split(\", \"):\n",
    "            if (x_line in dict_1):\n",
    "                dict_1[x_line]+=\", \"+s_line[1]\n",
    "            else:\n",
    "                dict_1[x_line]=s_line[1]\n",
    "    with open(target_path, 'w') as f:\n",
    "        for text in sorted(dict_1.items()):\n",
    "            f.write(text[0]+\" - \"+ text[1]+\"\\n\")\n",
    "    return"
   ]
  },
  {
   "cell_type": "code",
   "execution_count": 139,
   "metadata": {
    "collapsed": true
   },
   "outputs": [],
   "source": [
    "eng_lat_2_lat_eng('task_1.2.txt', 'task_1.2_change.txt')"
   ]
  },
  {
   "cell_type": "markdown",
   "metadata": {},
   "source": [
    "<b> Задание 1.3"
   ]
  },
  {
   "cell_type": "code",
   "execution_count": 70,
   "metadata": {
    "collapsed": false
   },
   "outputs": [],
   "source": [
    "import chardet\n",
    "def my_len(word, encoding=None):\n",
    "    #print word\n",
    "    if encoding==None:\n",
    "        try:\n",
    "            encoding = chardet.detect(word)['encoding']\n",
    "        except:\n",
    "            encoding=\"unicode\"\n",
    "    #print encoding\n",
    "    #print len(word)\n",
    "    if encoding==\"unicode\" or encoding==\"windows-1251\":\n",
    "        res=len(word)\n",
    "    elif encoding==\"utf_16\":\n",
    "        res=(len(word)/2)-1\n",
    "    else: \n",
    "        res=len(word)/2 \n",
    "    return res"
   ]
  },
  {
   "cell_type": "code",
   "execution_count": 71,
   "metadata": {
    "collapsed": false
   },
   "outputs": [
    {
     "data": {
      "text/plain": [
       "True"
      ]
     },
     "execution_count": 71,
     "metadata": {},
     "output_type": "execute_result"
    }
   ],
   "source": [
    "my_len('текст') == 5"
   ]
  },
  {
   "cell_type": "code",
   "execution_count": 72,
   "metadata": {
    "collapsed": false
   },
   "outputs": [
    {
     "data": {
      "text/plain": [
       "True"
      ]
     },
     "execution_count": 72,
     "metadata": {},
     "output_type": "execute_result"
    }
   ],
   "source": [
    "my_len(u'текст') == 5"
   ]
  },
  {
   "cell_type": "code",
   "execution_count": 73,
   "metadata": {
    "collapsed": false
   },
   "outputs": [
    {
     "data": {
      "text/plain": [
       "True"
      ]
     },
     "execution_count": 73,
     "metadata": {},
     "output_type": "execute_result"
    }
   ],
   "source": [
    "my_len(u'ааааа'.encode('utf_16'), encoding='utf_16')==5"
   ]
  },
  {
   "cell_type": "code",
   "execution_count": 74,
   "metadata": {
    "collapsed": false
   },
   "outputs": [
    {
     "data": {
      "text/plain": [
       "True"
      ]
     },
     "execution_count": 74,
     "metadata": {},
     "output_type": "execute_result"
    }
   ],
   "source": [
    "my_len(u'текст'.encode('windows-1251'))==5"
   ]
  },
  {
   "cell_type": "markdown",
   "metadata": {},
   "source": [
    "<h1> Продвинутый уровень"
   ]
  },
  {
   "cell_type": "markdown",
   "metadata": {},
   "source": [
    "<b> Задание 2.1"
   ]
  },
  {
   "cell_type": "code",
   "execution_count": 314,
   "metadata": {
    "collapsed": false
   },
   "outputs": [],
   "source": [
    "import os\n",
    "def get_dir_content_info(dir_path):\n",
    "    if not os.path.exists(dir_path):\n",
    "        os.makedirs(dir_path)\n",
    "        text1=\"\"\"123\n",
    "                4567\n",
    "                 8910\n",
    "                \"\"\"\n",
    "        text2=\"\"\"apple - malum, pomum, popula\n",
    "                fruit - baca, bacca, popum\n",
    "                punishment - malum, multa\n",
    "                \"\"\"\n",
    "        with open(dir_path+'\\\\'+'task_2.1_s1.txt', 'w') as f:\n",
    "                f.write(text1)\n",
    "        with open(dir_path+'\\\\'+'task_2.1_s2.txt', 'w') as f:\n",
    "                f.write(text1)\n",
    "        with open(dir_path+'\\\\'+'task_2.1_s3.txt', 'w') as f:\n",
    "                f.write(text2)\n",
    "        with open(dir_path+'\\\\'+'task_2.1_s4.txt', 'w') as f:\n",
    "                f.write(text2+\"test\")\n",
    "    dict_1={}\n",
    "    for (dirpath, dirnames, filenames) in os.walk(dir_path):\n",
    "        for name in filenames:\n",
    "            dict_1[name]=os.path.getsize(dirpath+\"\\\\\"+ name)\n",
    "    for text in sorted(dict_1.items(),key=lambda x: x[1],reverse=True):\n",
    "        print text[0], text[1]\n",
    "        #print str(text[0])+\" - \"+ str(text[1])\n",
    "    return"
   ]
  },
  {
   "cell_type": "code",
   "execution_count": 315,
   "metadata": {
    "collapsed": false
   },
   "outputs": [
    {
     "name": "stdout",
     "output_type": "stream",
     "text": [
      "task_2.1_s4.txt 137\n",
      "task_2.1_s3.txt 133\n",
      "task_2.1_s1.txt 66\n",
      "task_2.1_s2.txt 66\n"
     ]
    }
   ],
   "source": [
    "get_dir_content_info(\"Task2_1\")"
   ]
  },
  {
   "cell_type": "markdown",
   "metadata": {},
   "source": [
    "<b> Задание 2.2"
   ]
  },
  {
   "cell_type": "code",
   "execution_count": 295,
   "metadata": {
    "collapsed": true
   },
   "outputs": [],
   "source": [
    "with open('task_2.2_source.txt', 'w') as f:\n",
    "    f.write(\"\"\"leg - нога, часть тела\n",
    "fruit - фрукт, еда, зож\n",
    "milk - молоко, жидкость\n",
    "\"\"\")"
   ]
  },
  {
   "cell_type": "code",
   "execution_count": 296,
   "metadata": {
    "collapsed": true
   },
   "outputs": [],
   "source": [
    "# Немного не понятно что требуется, если ничего не менять всё работает\n",
    "#, просто перевести в unicode отдeльно русские слова отдельно английские слова?\n",
    "# Наверное из такого что мы используем данную среду в ней уже по умолчанию корректно отображаются символы в utf-8.\n",
    "# вероятно всего вы хотели чтобы вначале содержимое файла было переведено в юникод, затем уже после выполнения основного цикла программа\n",
    "# файл должен был быть переведен в ту кодировку которая была указано, либо в изначальную кодировку файла\n",
    "# в любом случае сейчас без преобразования итоговый файл отображается корректно.\n",
    "def eng_rus_2_rus_eng(source_path, target_path, encoding=None):\n",
    "    dict_1={}\n",
    "    set_1=[]\n",
    "    set_2=[]\n",
    "    with open(source_path, 'r') as ff:\n",
    "        text = ff.read()\n",
    "    if encoding==None:\n",
    "        encoding = chardet.detect(text).get(\"encoding\")\n",
    "    print encoding \n",
    "    #if encoding==\"utf-8\":\n",
    "        #text = unicode(text, encoding='utf-8')\n",
    "    #elif encoding!=\"unicode\":\n",
    "        #text = unicode(text)\n",
    "    #with open(source_path, 'w') as ff:\n",
    "        #ff.write(text)    \n",
    "    with open(source_path, 'r') as ff:\n",
    "        for line in ff.xreadlines():\n",
    "            set_1.append(line.split(\" - \")[0])\n",
    "            set_2.append(line.split(\" - \")[1].replace(\"\\n\",\"\"))\n",
    "    for s_line in zip(set_2,set_1):\n",
    "        for x_line in s_line[0].split(\", \"):\n",
    "            if (x_line in dict_1):\n",
    "                dict_1[x_line]+=\", \"+s_line[1]\n",
    "            else:\n",
    "                dict_1[x_line]=s_line[1]\n",
    "    with open(target_path, 'w') as f:\n",
    "        for text in sorted(dict_1.items()):\n",
    "            f.write(text[0]+\" - \"+ text[1]+\"\\n\")\n",
    "    return"
   ]
  },
  {
   "cell_type": "code",
   "execution_count": 297,
   "metadata": {
    "collapsed": false
   },
   "outputs": [
    {
     "name": "stdout",
     "output_type": "stream",
     "text": [
      "utf-8\n"
     ]
    }
   ],
   "source": [
    "eng_rus_2_rus_eng('task_2.2_source.txt', 'task_2.2_change.txt', encoding=None)"
   ]
  },
  {
   "cell_type": "code",
   "execution_count": 298,
   "metadata": {
    "collapsed": false
   },
   "outputs": [
    {
     "name": "stdout",
     "output_type": "stream",
     "text": [
      "еда - fruit\n",
      "жидкость - milk\n",
      "зож - fruit\n",
      "молоко - milk\n",
      "нога - leg\n",
      "фрукт - fruit\n",
      "часть тела - leg\n",
      "\n"
     ]
    }
   ],
   "source": [
    "# файл отображается корректно\n",
    "with open('task_2.2_change.txt', 'r') as f2:\n",
    "        print f2.read()"
   ]
  },
  {
   "cell_type": "markdown",
   "metadata": {},
   "source": [
    "<h1> Сложный уровень"
   ]
  },
  {
   "cell_type": "markdown",
   "metadata": {},
   "source": [
    "<b> Задание 3.1"
   ]
  },
  {
   "cell_type": "code",
   "execution_count": 316,
   "metadata": {
    "collapsed": false
   },
   "outputs": [],
   "source": [
    "import random\n",
    "def text_shuffle(text, seed=None): \n",
    "    #Переводим в юникод\n",
    "    try:\n",
    "        encoding = chardet.detect(text)['encoding']\n",
    "    except:\n",
    "        encoding=\"unicode\" \n",
    "    if encoding==\"utf-8\":\n",
    "        text = unicode(text, encoding='utf-8')\n",
    "    elif encoding!=\"unicode\":\n",
    "        text = unicode(text)\n",
    "    list=\"\"\n",
    "    for word in text.split(\" \"):\n",
    "        if seed !=None:\n",
    "            random.seed(seed)\n",
    "            list = list+\" \" + word[0]+''.join(random.sample(word[1:-1],len(word)-2))+word[-1]\n",
    "        else:\n",
    "            list = list+\" \" + word[0]+''.join(sorted(random.sample(word[1:-1],len(word)-2)))+word[-1]\n",
    "    print list\n",
    "    return"
   ]
  },
  {
   "cell_type": "code",
   "execution_count": 317,
   "metadata": {
    "collapsed": false
   },
   "outputs": [
    {
     "name": "stdout",
     "output_type": "stream",
     "text": [
      " Гаееинрця сайлнучых сортк\n"
     ]
    }
   ],
   "source": [
    "text_shuffle('Генерация случайных строк', seed=None)"
   ]
  },
  {
   "cell_type": "markdown",
   "metadata": {},
   "source": [
    "<b> Задание 3.2"
   ]
  },
  {
   "cell_type": "code",
   "execution_count": 226,
   "metadata": {
    "collapsed": false
   },
   "outputs": [],
   "source": [
    "#генерируем нужные файлы\n",
    "text1=\"\"\"Создание\n",
    "нового\n",
    "файла\n",
    "\"\"\"\n",
    "text2=\"\"\"Снова\n",
    "создание\n",
    "файла\n",
    "\"\"\"\n",
    "\n",
    "with open ('task_3.2_source_1.txt', 'w') as f1, open ('task_3.2_source_2.txt','w') as f2:\n",
    "    f1.write(text1)\n",
    "    f2.write(text2)"
   ]
  },
  {
   "cell_type": "code",
   "execution_count": 321,
   "metadata": {
    "collapsed": true
   },
   "outputs": [],
   "source": [
    "#Для выполения задания нам понадобится функция из прошлого задания\n",
    "def s_fun(frs,scn):\n",
    "    if frs>scn:\n",
    "        return 'Second'\n",
    "    elif frs<scn:\n",
    "        return'First'\n",
    "    else:\n",
    "        return 'Equal'\n",
    "\n",
    "def process(fst_source_path, snd_source_path,target_path):\n",
    "    text=''\n",
    "    with open (fst_source_path, 'r') as f1, open (snd_source_path,'r') as f2:\n",
    "        for line in zip(f1.readlines(), f2.readlines()):\n",
    "            #print line\n",
    "            text=text+ s_fun(line[0],line[1])+'\\n'\n",
    "    with open(target_path, 'w') as f:\n",
    "        f.write(text)\n",
    "    return text\n"
   ]
  },
  {
   "cell_type": "code",
   "execution_count": 322,
   "metadata": {
    "collapsed": false
   },
   "outputs": [
    {
     "data": {
      "text/plain": [
       "'Second\\nFirst\\nEqual\\n'"
      ]
     },
     "execution_count": 322,
     "metadata": {},
     "output_type": "execute_result"
    }
   ],
   "source": [
    "process('task_3.2_source_1.txt', 'task_3.2_source_2.txt','task_3.2_total.txt')"
   ]
  },
  {
   "cell_type": "code",
   "execution_count": null,
   "metadata": {
    "collapsed": true
   },
   "outputs": [],
   "source": []
  }
 ],
 "metadata": {
  "kernelspec": {
   "display_name": "Python 2",
   "language": "python",
   "name": "python2"
  },
  "language_info": {
   "codemirror_mode": {
    "name": "ipython",
    "version": 2
   },
   "file_extension": ".py",
   "mimetype": "text/x-python",
   "name": "python",
   "nbconvert_exporter": "python",
   "pygments_lexer": "ipython2",
   "version": "2.7.13"
  }
 },
 "nbformat": 4,
 "nbformat_minor": 2
}

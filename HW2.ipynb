{
 "cells": [
  {
   "cell_type": "code",
   "execution_count": 26,
   "metadata": {
    "collapsed": true
   },
   "outputs": [],
   "source": [
    "reviews = [\"\"\"Телефон абонента: +7 916 000 00 01\n",
    "Время: 10:34\n",
    "Дата: 20.05.2017\n",
    "Оценка: 1\n",
    "Длительность разговора (мин.): 0:32\n",
    "Комментарий: Общение с сотрудником вашей техподдержки мне не понравилось. Раньше всегда отвечала девушка с приятным голосом, а сегодня какой-то мужчина. Совсем никуда не годится, примите меры!!!\"\"\",\n",
    "\"\"\"Телефон абонента: +7 916 000 00 02\n",
    "Время: 9:20\n",
    "Дата: 21.05.2017\n",
    "Оценка: 5\n",
    "Длительность разговора (мин.): 25:07\n",
    "Комментарий: С моей проблемой мне помогли, большое спасибо!\"\"\"]"
   ]
  },
  {
   "cell_type": "code",
   "execution_count": 4,
   "metadata": {
    "collapsed": false
   },
   "outputs": [
    {
     "name": "stdout",
     "output_type": "stream",
     "text": [
      "<type 'list'>\n"
     ]
    }
   ],
   "source": [
    "print type(reviews)"
   ]
  },
  {
   "cell_type": "markdown",
   "metadata": {},
   "source": [
    "<h1> Базовая часть"
   ]
  },
  {
   "cell_type": "markdown",
   "metadata": {},
   "source": [
    "<b>Данный цикл работает верно только если первичный ключ - первый элемент отзыва (Телефон абонента в нашем случае) в противном случае алгоритм несколько поменяется"
   ]
  },
  {
   "cell_type": "code",
   "execution_count": 147,
   "metadata": {
    "collapsed": false
   },
   "outputs": [
    {
     "name": "stdout",
     "output_type": "stream",
     "text": [
      "True\n"
     ]
    }
   ],
   "source": [
    "reviews_base = {}\n",
    "for rew in reviews:\n",
    "    i=0\n",
    "    for line in rew.split('\\n'):\n",
    "        if line:\n",
    "            splitted_line = line.split(': ')\n",
    "            if i==0:\n",
    "                Fkey = splitted_line[1]\n",
    "                reviews_base[Fkey]={}\n",
    "            else:\n",
    "                field_name = splitted_line[0]\n",
    "                field_value = splitted_line[1]\n",
    "                reviews_base[Fkey][field_name]=field_value\n",
    "            i=i+1\n",
    "print reviews_base['+7 916 000 00 01']['Дата'] == '20.05.2017'"
   ]
  },
  {
   "cell_type": "markdown",
   "metadata": {},
   "source": [
    "<h1>Продвинутая часть"
   ]
  },
  {
   "cell_type": "markdown",
   "metadata": {},
   "source": [
    "<b>По поводу даты и времени, считаю что его лучше всего хранить в обычном списке (list), где каждая цифра это элемент списка. \n",
    "В дальнейшем списком легко оперировать при взаимодействии с модулем datetime."
   ]
  },
  {
   "cell_type": "code",
   "execution_count": 119,
   "metadata": {
    "collapsed": false
   },
   "outputs": [
    {
     "name": "stdout",
     "output_type": "stream",
     "text": [
      "<type 'list'>\n",
      "<type 'list'>\n",
      "<type 'int'>\n",
      "<type 'list'>\n",
      "<type 'str'>\n",
      "<type 'list'>\n",
      "<type 'list'>\n",
      "<type 'int'>\n",
      "<type 'list'>\n",
      "<type 'str'>\n",
      "__________\n",
      "[20, 5, 2017]\n",
      "['10', '34']\n",
      "1\n",
      "Общение с сотрудником вашей техподдержки мне не понравилось. Раньше всегда отвечала девушка с приятным голосом, а сегодня какой-то мужчина. Совсем никуда не годится, примите меры!!!\n"
     ]
    }
   ],
   "source": [
    "reviews_base = {}\n",
    "for rew in reviews:\n",
    "    i=0\n",
    "    for line in rew.split('\\n'):\n",
    "        if line:\n",
    "            splitted_line = line.split(': ')\n",
    "            #print (splitted_line)\n",
    "            if i==0:\n",
    "                Fkey = splitted_line[1]\n",
    "                reviews_base[Fkey]={}\n",
    "            else:\n",
    "                field_name = splitted_line[0]\n",
    "                # Можно было бы написать некую функцию, которая автоматически определяла бы тип поля, но моих знаний для этого\n",
    "                # не хвататет пока что:) \n",
    "                if field_name=='Время' or field_name=='Длительность разговора (мин.)':\n",
    "                    field_value=[]\n",
    "                    for el in splitted_line[1].split(':'):\n",
    "                        if el:\n",
    "                            field_value.append(el)\n",
    "                elif field_name=='Дата':\n",
    "                    field_value=[]\n",
    "                    for el in splitted_line[1].split('.'):\n",
    "                        if el:\n",
    "                            field_value.append(int(el))\n",
    "                elif field_name=='Оценка':\n",
    "                    field_value=int(splitted_line[1])\n",
    "                else: field_value = splitted_line[1]\n",
    "                    \n",
    "                reviews_base[Fkey][field_name]=field_value\n",
    "                print type(reviews_base[Fkey][field_name])\n",
    "            i=i+1\n",
    "print \"__________\"\n",
    "print reviews_base['+7 916 000 00 01']['Дата']\n",
    "print reviews_base['+7 916 000 00 01']['Время']\n",
    "print reviews_base['+7 916 000 00 01']['Оценка']\n",
    "print reviews_base['+7 916 000 00 01']['Комментарий']"
   ]
  },
  {
   "cell_type": "markdown",
   "metadata": {},
   "source": [
    "<b> Пример получения даты с использованием массива с датой, полученного выше:"
   ]
  },
  {
   "cell_type": "code",
   "execution_count": 116,
   "metadata": {
    "collapsed": false
   },
   "outputs": [
    {
     "name": "stdout",
     "output_type": "stream",
     "text": [
      "[20, 5, 2017]\n",
      "2017-05-20\n"
     ]
    }
   ],
   "source": [
    "#from datetime import datetime\n",
    "date=reviews_base['+7 916 000 00 01']['Дата']\n",
    "print date\n",
    "dt_obj = datetime(date[2],date[1],date[0])\n",
    "date_str = dt_obj.strftime(\"%Y-%m-%d\")\n",
    "print date_str"
   ]
  },
  {
   "cell_type": "markdown",
   "metadata": {},
   "source": [
    "<H1>Сложная часть"
   ]
  },
  {
   "cell_type": "markdown",
   "metadata": {},
   "source": [
    "<b> \"Взломать tuple\" можно, если перевести его в тип лист, а затем обратно в тип кортеж "
   ]
  },
  {
   "cell_type": "code",
   "execution_count": 129,
   "metadata": {
    "collapsed": false
   },
   "outputs": [
    {
     "name": "stdout",
     "output_type": "stream",
     "text": [
      "('Ivan Ivanovich', 'Medium')\n",
      "<type 'tuple'>\n",
      "('Ivan Ivanovich', 'Medium', 'Nikita')\n",
      "<type 'tuple'>\n"
     ]
    }
   ],
   "source": [
    "tp=('Ivan Ivanovich', 'Medium')\n",
    "print tp\n",
    "print type(tp)\n",
    "tp=list(tp)\n",
    "tp.append('Nikita')\n",
    "tp = tuple(tp)\n",
    "print tp\n",
    "print type(tp)"
   ]
  },
  {
   "cell_type": "markdown",
   "metadata": {},
   "source": [
    "<b> Можно добавить кортеж в множество:"
   ]
  },
  {
   "cell_type": "code",
   "execution_count": 139,
   "metadata": {
    "collapsed": false
   },
   "outputs": [
    {
     "name": "stdout",
     "output_type": "stream",
     "text": [
      "<type 'tuple'>\n",
      "<type 'set'>\n",
      "set(['Ivan', ('Ivan Ivanovich', 'Medium'), 'Konstantin', 'Petr'])\n",
      "<type 'set'>\n"
     ]
    }
   ],
   "source": [
    "tp = ('Ivan Ivanovich', 'Medium')\n",
    "print type(tp)\n",
    "names = {'Ivan', 'Petr', 'Konstantin'}\n",
    "print type(names)\n",
    "names.add(tp)\n",
    "print names\n",
    "print type(names)"
   ]
  },
  {
   "cell_type": "markdown",
   "metadata": {},
   "source": [
    "<b>Ключами в словаре могут быть любые неизменяемые объекты, тоесть кортеж может быть ключом."
   ]
  },
  {
   "cell_type": "code",
   "execution_count": 146,
   "metadata": {
    "collapsed": false
   },
   "outputs": [
    {
     "name": "stdout",
     "output_type": "stream",
     "text": [
      "<type 'tuple'>\n",
      "{('Ivan Ivanovich', 'Medium'): 'Test'}\n",
      "<type 'dict'>\n"
     ]
    }
   ],
   "source": [
    "d={}\n",
    "tp=('Ivan Ivanovich', 'Medium')\n",
    "print type(tp)\n",
    "d[tp]=\"Test\"\n",
    "print d\n",
    "print type(d)"
   ]
  },
  {
   "cell_type": "code",
   "execution_count": null,
   "metadata": {
    "collapsed": true
   },
   "outputs": [],
   "source": []
  }
 ],
 "metadata": {
  "kernelspec": {
   "display_name": "Python 2",
   "language": "python",
   "name": "python2"
  },
  "language_info": {
   "codemirror_mode": {
    "name": "ipython",
    "version": 2
   },
   "file_extension": ".py",
   "mimetype": "text/x-python",
   "name": "python",
   "nbconvert_exporter": "python",
   "pygments_lexer": "ipython2",
   "version": "2.7.13"
  }
 },
 "nbformat": 4,
 "nbformat_minor": 2
}
